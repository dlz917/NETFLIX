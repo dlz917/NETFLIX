{
 "cells": [
  {
   "attachments": {},
   "cell_type": "markdown",
   "metadata": {},
   "source": [
    "# Systeme de Recommandation V0\n"
   ]
  },
  {
   "cell_type": "code",
   "execution_count": null,
   "metadata": {},
   "outputs": [],
   "source": [
    "#recuperer la liste des films dans l'historique de l'utilisateur1\n",
    "#recuperer la liste des films dans l'historique de l'utilisateur2\n",
    "#recuperer la liste des films dans l'historique de l'utilisateur3\n",
    "#recuperer la liste des films dans l'historique de l'utilisateur4"
   ]
  },
  {
   "cell_type": "code",
   "execution_count": null,
   "metadata": {},
   "outputs": [],
   "source": [
    "#recuperer la liste des films qui passe le filtrage manuel donnes par les user"
   ]
  },
  {
   "cell_type": "code",
   "execution_count": null,
   "metadata": {},
   "outputs": [],
   "source": [
    "#transformer les list pour les utiliser de la meilleure façon"
   ]
  },
  {
   "cell_type": "code",
   "execution_count": null,
   "metadata": {},
   "outputs": [],
   "source": [
    "# for every film in the list of films that passed the manual filtering, get the correlation between the film and the films in the historial (1 for user) (4 max) (id)\n",
    "# faire la moyenne donc chaque user il aura un correspondance avec chaque film qui passe le filtre manuel)"
   ]
  }
 ],
 "metadata": {
  "kernelspec": {
   "display_name": "base",
   "language": "python",
   "name": "python3"
  },
  "language_info": {
   "codemirror_mode": {
    "name": "ipython",
    "version": 3
   },
   "file_extension": ".py",
   "mimetype": "text/x-python",
   "name": "python",
   "nbconvert_exporter": "python",
   "pygments_lexer": "ipython3",
   "version": "3.9.13"
  },
  "orig_nbformat": 4
 },
 "nbformat": 4,
 "nbformat_minor": 2
}
