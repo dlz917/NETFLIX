{
 "cells": [
  {
   "attachments": {},
   "cell_type": "markdown",
   "metadata": {},
   "source": [
    "# Systeme de Recommandation V0\n",
    "# Version 1 User\n",
    "\n"
   ]
  },
  {
   "cell_type": "code",
   "execution_count": 3,
   "metadata": {},
   "outputs": [
    {
     "name": "stdout",
     "output_type": "stream",
     "text": [
      "Requirement already satisfied: numpy in c:\\users\\joans\\appdata\\local\\programs\\python\\python37-32\\lib\\site-packages (1.21.6)\n",
      "Note: you may need to restart the kernel to use updated packages.\n",
      "Collecting scipy\n",
      "  Downloading scipy-1.7.3-cp37-cp37m-win32.whl (30.6 MB)\n",
      "     ---------------------------------------- 30.6/30.6 MB 3.1 MB/s eta 0:00:00\n",
      "Requirement already satisfied: numpy<1.23.0,>=1.16.5 in c:\\users\\joans\\appdata\\local\\programs\\python\\python37-32\\lib\\site-packages (from scipy) (1.21.6)\n",
      "Installing collected packages: scipy\n",
      "Successfully installed scipy-1.7.3\n",
      "Note: you may need to restart the kernel to use updated packages.\n",
      "Collecting scikit-learn\n",
      "  Downloading scikit_learn-1.0.2-cp37-cp37m-win32.whl (6.4 MB)\n",
      "     ---------------------------------------- 6.4/6.4 MB 1.8 MB/s eta 0:00:00\n",
      "Requirement already satisfied: scipy>=1.1.0 in c:\\users\\joans\\appdata\\local\\programs\\python\\python37-32\\lib\\site-packages (from scikit-learn) (1.7.3)\n",
      "Requirement already satisfied: numpy>=1.14.6 in c:\\users\\joans\\appdata\\local\\programs\\python\\python37-32\\lib\\site-packages (from scikit-learn) (1.21.6)\n",
      "Requirement already satisfied: joblib>=0.11 in c:\\users\\joans\\appdata\\local\\programs\\python\\python37-32\\lib\\site-packages (from scikit-learn) (1.2.0)\n",
      "Collecting threadpoolctl>=2.0.0\n",
      "  Downloading threadpoolctl-3.1.0-py3-none-any.whl (14 kB)\n",
      "Installing collected packages: threadpoolctl, scikit-learn\n",
      "Successfully installed scikit-learn-1.0.2 threadpoolctl-3.1.0\n",
      "Note: you may need to restart the kernel to use updated packages.\n"
     ]
    }
   ],
   "source": [
    "%pip install numpy\n",
    "%pip install scipy\n",
    "%pip install scikit-learn"
   ]
  },
  {
   "cell_type": "code",
   "execution_count": 1,
   "metadata": {},
   "outputs": [
    {
     "name": "stderr",
     "output_type": "stream",
     "text": [
      "[nltk_data] Downloading package stopwords to\n",
      "[nltk_data]     C:\\Users\\joans\\AppData\\Roaming\\nltk_data...\n",
      "[nltk_data]   Package stopwords is already up-to-date!\n",
      "[nltk_data] Downloading package punkt to\n",
      "[nltk_data]     C:\\Users\\joans\\AppData\\Roaming\\nltk_data...\n",
      "[nltk_data]   Package punkt is already up-to-date!\n",
      "[nltk_data] Downloading package wordnet to\n",
      "[nltk_data]     C:\\Users\\joans\\AppData\\Roaming\\nltk_data...\n",
      "[nltk_data]   Package wordnet is already up-to-date!\n",
      "[nltk_data] Downloading package omw-1.4 to\n",
      "[nltk_data]     C:\\Users\\joans\\AppData\\Roaming\\nltk_data...\n",
      "[nltk_data]   Package omw-1.4 is already up-to-date!\n"
     ]
    },
    {
     "data": {
      "text/plain": [
       "True"
      ]
     },
     "execution_count": 1,
     "metadata": {},
     "output_type": "execute_result"
    }
   ],
   "source": [
    "\n",
    "\n",
    "import sys\n",
    "import nltk\n",
    "\n",
    "nltk.download('stopwords')\n",
    "nltk.download('punkt')\n",
    "nltk.download('wordnet')\n",
    "nltk.download('omw-1.4')\n"
   ]
  },
  {
   "cell_type": "code",
   "execution_count": 8,
   "metadata": {},
   "outputs": [],
   "source": [
    "#recuperer la requete de filtrage et lutilsateur\n",
    "\n",
    "user=sys.argv[1]\n",
    "requete=sys.argv[2]\n"
   ]
  },
  {
   "cell_type": "code",
   "execution_count": 9,
   "metadata": {},
   "outputs": [
    {
     "ename": "NameError",
     "evalue": "name 'user' is not defined",
     "output_type": "error",
     "traceback": [
      "\u001b[1;31m---------------------------------------------------------------------------\u001b[0m",
      "\u001b[1;31mNameError\u001b[0m                                 Traceback (most recent call last)",
      "\u001b[1;32m~\\AppData\\Local\\Temp\\ipykernel_17588\\538664931.py\u001b[0m in \u001b[0;36m<module>\u001b[1;34m\u001b[0m\n\u001b[0;32m      1\u001b[0m \u001b[1;31m#Pour recuperer la listes des films faut avant recuperer tous les participants de la salle (liste de id de utilisateurs)\u001b[0m\u001b[1;33m\u001b[0m\u001b[1;33m\u001b[0m\u001b[1;33m\u001b[0m\u001b[0m\n\u001b[1;32m----> 2\u001b[1;33m \u001b[0mhistorique\u001b[0m \u001b[1;33m=\u001b[0m \u001b[1;34m\"select id_show from regarder where id_us = \"\u001b[0m \u001b[1;33m+\u001b[0m \u001b[0mstr\u001b[0m\u001b[1;33m(\u001b[0m\u001b[0muser\u001b[0m\u001b[1;33m)\u001b[0m \u001b[1;33m+\u001b[0m \u001b[1;34m\";\"\u001b[0m\u001b[1;33m\u001b[0m\u001b[1;33m\u001b[0m\u001b[0m\n\u001b[0m\u001b[0;32m      3\u001b[0m \u001b[1;33m\u001b[0m\u001b[0m\n\u001b[0;32m      4\u001b[0m \u001b[1;31m#recuperer la liste des films dans l'historique de l'utilisateur1(liste de id)\u001b[0m\u001b[1;33m\u001b[0m\u001b[1;33m\u001b[0m\u001b[1;33m\u001b[0m\u001b[0m\n\u001b[0;32m      5\u001b[0m \u001b[1;31m#recuperer la liste des films dans l'historique de l'utilisateur2(liste de id)\u001b[0m\u001b[1;33m\u001b[0m\u001b[1;33m\u001b[0m\u001b[1;33m\u001b[0m\u001b[0m\n",
      "\u001b[1;31mNameError\u001b[0m: name 'user' is not defined"
     ]
    }
   ],
   "source": [
    "#Pour recuperer la listes des films faut avant recuperer tous les participants de la salle (liste de id de utilisateurs)\n",
    "historique = \"select id_show from regarder where id_us = \" + str(user) + \";\"\n",
    "\n",
    "#recuperer la liste des films dans l'historique de l'utilisateur1(liste de id)\n",
    "#recuperer la liste des films dans l'historique de l'utilisateur2(liste de id)\n",
    "#recuperer la liste des films dans l'historique de l'utilisateur3(liste de id)\n",
    "#recuperer la liste des films dans l'historique de l'utilisateur4(liste de id)\n"
   ]
  },
  {
   "cell_type": "code",
   "execution_count": 3,
   "metadata": {},
   "outputs": [
    {
     "name": "stdout",
     "output_type": "stream",
     "text": [
      "<pymysql.connections.Connection object at 0x037D5510>\n"
     ]
    }
   ],
   "source": [
    "\n",
    "import pymysql\n",
    "import pandas as pd\n",
    "\n",
    "cnxn = pymysql.connect(user=\"nchoice\", password=\"jenesaispas\", host=\"localhost\", database=\"nchoice\")\n",
    "\n",
    "print(cnxn)"
   ]
  },
  {
   "cell_type": "code",
   "execution_count": 4,
   "metadata": {},
   "outputs": [],
   "source": [
    "\n",
    "#t = historique['id_show'].tolist()\n",
    "t=(\"s3\",\"s8\",\"s10\",\"s420\",\"s888\") #TEST\n",
    "requete_historique = \"SELECT show_new.*, GROUP_CONCAT(DISTINCT jouer.id_cast SEPARATOR ',') as cast_ids, GROUP_CONCAT(DISTINCT produire.id_direc SEPARATOR ',') as director_ids,GROUP_CONCAT(DISTINCT etre.id_genre SEPARATOR ',') as genre_ids FROM show_new LEFT JOIN jouer ON jouer.id_show = show_new.id_show LEFT JOIN produire ON produire.id_show = show_new.id_show LEFT JOIN etre ON etre.id_show = show_new.id_show  WHERE show_new.id_show IN {} GROUP BY show_new.id_show; \".format(t)\n",
    "\n",
    "films_historiques = pd.read_sql(requete_historique, cnxn)\n",
    "#films_filtres = pd.read_sql(requete, cnxn)"
   ]
  },
  {
   "cell_type": "code",
   "execution_count": 7,
   "metadata": {},
   "outputs": [],
   "source": [
    "def list_similarity(list1, list2):\n",
    "    if len(list1) == 0 or len(list2) == 0:\n",
    "        return 0\n",
    "    set1 = set(map(tuple, list1))\n",
    "    set2 = set(map(tuple, list2))\n",
    "\n",
    "    intersection = set1.intersection(set2)\n",
    "    union = set1.union(set2)\n",
    "\n",
    "    similarity = len(intersection) / len(union) \n",
    "    return similarity\n"
   ]
  },
  {
   "cell_type": "code",
   "execution_count": 5,
   "metadata": {},
   "outputs": [
    {
     "name": "stderr",
     "output_type": "stream",
     "text": [
      "[nltk_data] Downloading package stopwords to\n",
      "[nltk_data]     C:\\Users\\joans\\AppData\\Roaming\\nltk_data...\n",
      "[nltk_data]   Package stopwords is already up-to-date!\n",
      "[nltk_data] Downloading package wordnet to\n",
      "[nltk_data]     C:\\Users\\joans\\AppData\\Roaming\\nltk_data...\n",
      "[nltk_data]   Package wordnet is already up-to-date!\n"
     ]
    }
   ],
   "source": [
    "import pandas as pd\n",
    "import nltk\n",
    "from nltk.corpus import stopwords\n",
    "from nltk.stem import PorterStemmer\n",
    "from nltk.stem.wordnet import WordNetLemmatizer\n",
    "from sklearn.feature_extraction.text import CountVectorizer\n",
    "from sklearn.metrics.pairwise import cosine_similarity\n",
    "\n",
    "nltk.download('stopwords')\n",
    "nltk.download('wordnet')\n",
    "\n",
    "def preprocess_text(text):\n",
    "    # Remove stop words\n",
    "    stop_words = set(stopwords.words(\"english\"))\n",
    "    filtered_text = [word for word in text.lower().split() if word not in stop_words]\n",
    "    \n",
    "    # Perform stemming\n",
    "    ps = PorterStemmer()\n",
    "    stemmed_text = [ps.stem(word) for word in filtered_text]\n",
    "    \n",
    "    # Perform lemmatization\n",
    "    lem = WordNetLemmatizer()\n",
    "    lemmatized_text = [lem.lemmatize(word, \"v\") for word in stemmed_text]\n",
    "    \n",
    "    return \" \".join(lemmatized_text)\n",
    "\n",
    "def calculate_similarity(filtres, historique):\n",
    "    genre_weight = 0.2\n",
    "    director_weight = 0.15\n",
    "    cast_weight = 0.20\n",
    "    type_weight = 0.05\n",
    "    description_weight = 0.3\n",
    "    year_weight = 0.05\n",
    "    country_weight = 0.05\n",
    "    # Create a copy of the dataframes\n",
    "    filtres_similarity = filtres.copy()\n",
    "    historique_similarity = historique.copy()\n",
    "    \n",
    "    #Preprocess the  lists columns\n",
    "    filtres_similarity[\"cast_ids\"]=filtres_similarity[\"cast_ids\"].str.split(\",\")\n",
    "    filtres_similarity[\"director_ids\"]=filtres_similarity[\"director_ids\"].str.split(\",\")\n",
    "    filtres_similarity[\"genre_ids\"]=filtres_similarity[\"genre_ids\"].str.split(\",\")\n",
    "    filtres_similarity[\"country\"]=filtres_similarity[\"country\"].str.split(\",\")\n",
    "\n",
    "    historique_similarity[\"cast_ids\"]=historique_similarity[\"cast_ids\"].str.split(\",\")\n",
    "    historique_similarity[\"director_ids\"]=historique_similarity[\"director_ids\"].str.split(\",\")\n",
    "    historique_similarity[\"genre_ids\"]=historique_similarity[\"genre_ids\"].str.split(\",\")\n",
    "    historique_similarity[\"country\"]=historique_similarity[\"country\"].str.split(\",\")\n",
    "\n",
    "    # Preprocess the description column\n",
    "    filtres_similarity['description'] = filtres_similarity['description'].apply(preprocess_text)\n",
    "    historique_similarity['description'] = historique_similarity['description'].apply(preprocess_text)\n",
    "\n",
    "    #Acces rows of the filtered films dataframe and calculate the similarity between every filtered film and the films in the historial\n",
    "    df_similarity = pd.DataFrame(columns=['id_show', 'similarity'])\n",
    "    for index, row in filtres_similarity.iterrows():\n",
    "        similarity=0\n",
    "        for index2, row2 in historique_similarity.iterrows():\n",
    "            if row['type']==row2['type']:\n",
    "                similarity+=1*type_weight\n",
    "            if row['year']==row2['year']:\n",
    "                similarity+=1*year_weight\n",
    "            similarity+=list_similarity(row['genre_ids'],row2['genre_ids'])*genre_weight\n",
    "            similarity+=list_similarity(row['director_ids'],row2['director_ids'])*director_weight\n",
    "            similarity+=list_similarity(row['cast_ids'],row2['cast_ids'])*cast_weight\n",
    "            similarity+=list_similarity(row['country'],row2['country'])*country_weight\n",
    "            vectorizer = CountVectorizer()\n",
    "            # Transform the descriptions into vectors\n",
    "            vectors = vectorizer.fit_transform([row[\"description\"], row2[\"description\"]])\n",
    "            # Calculate the cosine similarity between the two vectors\n",
    "            cosine_sim = cosine_similarity(vectors[0], vectors[1])[0][0]\n",
    "            similarity+=cosine_sim*description_weight\n",
    "\n",
    "        new_row={'id_show':row['id_show'],'similarity':similarity/len(historique_similarity)}\n",
    "        df_similarity=df_similarity.append(new_row, ignore_index=True)\n",
    "\n",
    "   \n",
    "\n",
    "    return df_similarity.sort_values(by=['similarity'], ascending=False)"
   ]
  },
  {
   "cell_type": "code",
   "execution_count": 8,
   "metadata": {},
   "outputs": [
    {
     "data": {
      "text/html": [
       "<div>\n",
       "<style scoped>\n",
       "    .dataframe tbody tr th:only-of-type {\n",
       "        vertical-align: middle;\n",
       "    }\n",
       "\n",
       "    .dataframe tbody tr th {\n",
       "        vertical-align: top;\n",
       "    }\n",
       "\n",
       "    .dataframe thead th {\n",
       "        text-align: right;\n",
       "    }\n",
       "</style>\n",
       "<table border=\"1\" class=\"dataframe\">\n",
       "  <thead>\n",
       "    <tr style=\"text-align: right;\">\n",
       "      <th></th>\n",
       "      <th>id_show</th>\n",
       "      <th>similarity</th>\n",
       "    </tr>\n",
       "  </thead>\n",
       "  <tbody>\n",
       "    <tr>\n",
       "      <th>5</th>\n",
       "      <td>s812</td>\n",
       "      <td>0.100000</td>\n",
       "    </tr>\n",
       "    <tr>\n",
       "      <th>4</th>\n",
       "      <td>s784</td>\n",
       "      <td>0.098461</td>\n",
       "    </tr>\n",
       "    <tr>\n",
       "      <th>1</th>\n",
       "      <td>s2588</td>\n",
       "      <td>0.090676</td>\n",
       "    </tr>\n",
       "    <tr>\n",
       "      <th>0</th>\n",
       "      <td>s1010</td>\n",
       "      <td>0.090000</td>\n",
       "    </tr>\n",
       "    <tr>\n",
       "      <th>6</th>\n",
       "      <td>s897</td>\n",
       "      <td>0.061335</td>\n",
       "    </tr>\n",
       "    <tr>\n",
       "      <th>2</th>\n",
       "      <td>s333</td>\n",
       "      <td>0.054429</td>\n",
       "    </tr>\n",
       "    <tr>\n",
       "      <th>3</th>\n",
       "      <td>s478</td>\n",
       "      <td>0.049565</td>\n",
       "    </tr>\n",
       "    <tr>\n",
       "      <th>7</th>\n",
       "      <td>s9</td>\n",
       "      <td>0.030000</td>\n",
       "    </tr>\n",
       "  </tbody>\n",
       "</table>\n",
       "</div>"
      ],
      "text/plain": [
       "  id_show  similarity\n",
       "5    s812    0.100000\n",
       "4    s784    0.098461\n",
       "1   s2588    0.090676\n",
       "0   s1010    0.090000\n",
       "6    s897    0.061335\n",
       "2    s333    0.054429\n",
       "3    s478    0.049565\n",
       "7      s9    0.030000"
      ]
     },
     "execution_count": 8,
     "metadata": {},
     "output_type": "execute_result"
    }
   ],
   "source": [
    "#TEST\n",
    "t=(\"s9\",\"s812\",\"s1010\",\"s333\",\"s784\",\"s478\",\"s897\",\"s2588\")\n",
    "requete= \"SELECT show_new.*, GROUP_CONCAT(DISTINCT jouer.id_cast SEPARATOR ',') as cast_ids, GROUP_CONCAT(DISTINCT produire.id_direc SEPARATOR ',') as director_ids,GROUP_CONCAT(DISTINCT etre.id_genre SEPARATOR ',') as genre_ids FROM show_new LEFT JOIN jouer ON jouer.id_show = show_new.id_show LEFT JOIN produire ON produire.id_show = show_new.id_show LEFT JOIN etre ON etre.id_show = show_new.id_show  WHERE show_new.id_show IN {} GROUP BY show_new.id_show; \".format(t)\n",
    "films_filtres = pd.read_sql(requete, cnxn)\n",
    "films_filtres\n",
    "films_filtres = films_filtres.astype(str)\n",
    "films_historiques = films_historiques.astype(str)\n",
    "calculate_similarity(films_filtres, films_historiques)\n"
   ]
  },
  {
   "cell_type": "code",
   "execution_count": 10,
   "metadata": {},
   "outputs": [
    {
     "data": {
      "text/plain": [
       "['s812', 's784', 's2588', 's1010', 's897', 's333', 's478', 's9']"
      ]
     },
     "execution_count": 10,
     "metadata": {},
     "output_type": "execute_result"
    }
   ],
   "source": [
    "calculate_similarity(films_filtres, films_historiques)[\"id_show\"].to_list()"
   ]
  },
  {
   "attachments": {},
   "cell_type": "markdown",
   "metadata": {},
   "source": [
    "# Version plusieurs utilisateurs"
   ]
  },
  {
   "cell_type": "code",
   "execution_count": null,
   "metadata": {},
   "outputs": [],
   "source": [
    "\n",
    "    "
   ]
  }
 ],
 "metadata": {
  "kernelspec": {
   "display_name": "Python 3",
   "language": "python",
   "name": "python3"
  },
  "language_info": {
   "codemirror_mode": {
    "name": "ipython",
    "version": 3
   },
   "file_extension": ".py",
   "mimetype": "text/x-python",
   "name": "python",
   "nbconvert_exporter": "python",
   "pygments_lexer": "ipython3",
   "version": "3.7.4"
  },
  "orig_nbformat": 4,
  "vscode": {
   "interpreter": {
    "hash": "75fc30232918a5324d2f6606dfe0fdff9096202f58b1090ad0b1a4a6fd7a6572"
   }
  }
 },
 "nbformat": 4,
 "nbformat_minor": 2
}
